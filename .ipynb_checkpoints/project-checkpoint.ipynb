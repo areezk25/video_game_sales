{
 "cells": [
  {
   "cell_type": "code",
   "execution_count": 28,
   "metadata": {
    "collapsed": true,
    "ExecuteTime": {
     "end_time": "2023-11-01T15:09:33.789857800Z",
     "start_time": "2023-11-01T15:09:33.730983200Z"
    }
   },
   "outputs": [],
   "source": [
    "import pandas as pd\n",
    "import matplotlib as plt\n",
    "import seaborn as sns\n",
    "import numpy as np\n",
    "from bs4 import BeautifulSoup as bs\n",
    "import requests"
   ]
  },
  {
   "cell_type": "code",
   "execution_count": 16,
   "outputs": [],
   "source": [
    "df = pd.read_csv('vgsales.csv')"
   ],
   "metadata": {
    "collapsed": false,
    "ExecuteTime": {
     "end_time": "2023-11-01T15:02:37.400447700Z",
     "start_time": "2023-11-01T15:02:37.368609500Z"
    }
   }
  },
  {
   "cell_type": "code",
   "execution_count": 17,
   "outputs": [
    {
     "data": {
      "text/plain": "   Rank                      Name Platform    Year         Genre Publisher  \\\n0     1                Wii Sports      Wii  2006.0        Sports  Nintendo   \n1     2         Super Mario Bros.      NES  1985.0      Platform  Nintendo   \n2     3            Mario Kart Wii      Wii  2008.0        Racing  Nintendo   \n3     4         Wii Sports Resort      Wii  2009.0        Sports  Nintendo   \n4     5  Pokemon Red/Pokemon Blue       GB  1996.0  Role-Playing  Nintendo   \n\n   NA_Sales  EU_Sales  JP_Sales  Other_Sales  Global_Sales  \n0     41.49     29.02      3.77         8.46         82.74  \n1     29.08      3.58      6.81         0.77         40.24  \n2     15.85     12.88      3.79         3.31         35.82  \n3     15.75     11.01      3.28         2.96         33.00  \n4     11.27      8.89     10.22         1.00         31.37  ",
      "text/html": "<div>\n<style scoped>\n    .dataframe tbody tr th:only-of-type {\n        vertical-align: middle;\n    }\n\n    .dataframe tbody tr th {\n        vertical-align: top;\n    }\n\n    .dataframe thead th {\n        text-align: right;\n    }\n</style>\n<table border=\"1\" class=\"dataframe\">\n  <thead>\n    <tr style=\"text-align: right;\">\n      <th></th>\n      <th>Rank</th>\n      <th>Name</th>\n      <th>Platform</th>\n      <th>Year</th>\n      <th>Genre</th>\n      <th>Publisher</th>\n      <th>NA_Sales</th>\n      <th>EU_Sales</th>\n      <th>JP_Sales</th>\n      <th>Other_Sales</th>\n      <th>Global_Sales</th>\n    </tr>\n  </thead>\n  <tbody>\n    <tr>\n      <th>0</th>\n      <td>1</td>\n      <td>Wii Sports</td>\n      <td>Wii</td>\n      <td>2006.0</td>\n      <td>Sports</td>\n      <td>Nintendo</td>\n      <td>41.49</td>\n      <td>29.02</td>\n      <td>3.77</td>\n      <td>8.46</td>\n      <td>82.74</td>\n    </tr>\n    <tr>\n      <th>1</th>\n      <td>2</td>\n      <td>Super Mario Bros.</td>\n      <td>NES</td>\n      <td>1985.0</td>\n      <td>Platform</td>\n      <td>Nintendo</td>\n      <td>29.08</td>\n      <td>3.58</td>\n      <td>6.81</td>\n      <td>0.77</td>\n      <td>40.24</td>\n    </tr>\n    <tr>\n      <th>2</th>\n      <td>3</td>\n      <td>Mario Kart Wii</td>\n      <td>Wii</td>\n      <td>2008.0</td>\n      <td>Racing</td>\n      <td>Nintendo</td>\n      <td>15.85</td>\n      <td>12.88</td>\n      <td>3.79</td>\n      <td>3.31</td>\n      <td>35.82</td>\n    </tr>\n    <tr>\n      <th>3</th>\n      <td>4</td>\n      <td>Wii Sports Resort</td>\n      <td>Wii</td>\n      <td>2009.0</td>\n      <td>Sports</td>\n      <td>Nintendo</td>\n      <td>15.75</td>\n      <td>11.01</td>\n      <td>3.28</td>\n      <td>2.96</td>\n      <td>33.00</td>\n    </tr>\n    <tr>\n      <th>4</th>\n      <td>5</td>\n      <td>Pokemon Red/Pokemon Blue</td>\n      <td>GB</td>\n      <td>1996.0</td>\n      <td>Role-Playing</td>\n      <td>Nintendo</td>\n      <td>11.27</td>\n      <td>8.89</td>\n      <td>10.22</td>\n      <td>1.00</td>\n      <td>31.37</td>\n    </tr>\n  </tbody>\n</table>\n</div>"
     },
     "execution_count": 17,
     "metadata": {},
     "output_type": "execute_result"
    }
   ],
   "source": [
    "df.head()"
   ],
   "metadata": {
    "collapsed": false,
    "ExecuteTime": {
     "end_time": "2023-11-01T15:02:39.477145200Z",
     "start_time": "2023-11-01T15:02:39.474630700Z"
    }
   }
  },
  {
   "cell_type": "code",
   "execution_count": 21,
   "outputs": [
    {
     "data": {
      "text/plain": "Rank              int64\nName             object\nPlatform         object\nYear            float64\nGenre            object\nPublisher        object\nNA_Sales        float64\nEU_Sales        float64\nJP_Sales        float64\nOther_Sales     float64\nGlobal_Sales    float64\ndtype: object"
     },
     "execution_count": 21,
     "metadata": {},
     "output_type": "execute_result"
    }
   ],
   "source": [
    "df.dtypes"
   ],
   "metadata": {
    "collapsed": false,
    "ExecuteTime": {
     "end_time": "2023-11-01T15:04:23.538272100Z",
     "start_time": "2023-11-01T15:04:23.532763500Z"
    }
   }
  },
  {
   "cell_type": "code",
   "execution_count": 18,
   "outputs": [
    {
     "data": {
      "text/plain": "        Rank   Name  Platform   Year  Genre  Publisher  NA_Sales  EU_Sales  \\\n0      False  False     False  False  False      False     False     False   \n1      False  False     False  False  False      False     False     False   \n2      False  False     False  False  False      False     False     False   \n3      False  False     False  False  False      False     False     False   \n4      False  False     False  False  False      False     False     False   \n...      ...    ...       ...    ...    ...        ...       ...       ...   \n16593  False  False     False  False  False      False     False     False   \n16594  False  False     False  False  False      False     False     False   \n16595  False  False     False  False  False      False     False     False   \n16596  False  False     False  False  False      False     False     False   \n16597  False  False     False  False  False      False     False     False   \n\n       JP_Sales  Other_Sales  Global_Sales  \n0         False        False         False  \n1         False        False         False  \n2         False        False         False  \n3         False        False         False  \n4         False        False         False  \n...         ...          ...           ...  \n16593     False        False         False  \n16594     False        False         False  \n16595     False        False         False  \n16596     False        False         False  \n16597     False        False         False  \n\n[16598 rows x 11 columns]",
      "text/html": "<div>\n<style scoped>\n    .dataframe tbody tr th:only-of-type {\n        vertical-align: middle;\n    }\n\n    .dataframe tbody tr th {\n        vertical-align: top;\n    }\n\n    .dataframe thead th {\n        text-align: right;\n    }\n</style>\n<table border=\"1\" class=\"dataframe\">\n  <thead>\n    <tr style=\"text-align: right;\">\n      <th></th>\n      <th>Rank</th>\n      <th>Name</th>\n      <th>Platform</th>\n      <th>Year</th>\n      <th>Genre</th>\n      <th>Publisher</th>\n      <th>NA_Sales</th>\n      <th>EU_Sales</th>\n      <th>JP_Sales</th>\n      <th>Other_Sales</th>\n      <th>Global_Sales</th>\n    </tr>\n  </thead>\n  <tbody>\n    <tr>\n      <th>0</th>\n      <td>False</td>\n      <td>False</td>\n      <td>False</td>\n      <td>False</td>\n      <td>False</td>\n      <td>False</td>\n      <td>False</td>\n      <td>False</td>\n      <td>False</td>\n      <td>False</td>\n      <td>False</td>\n    </tr>\n    <tr>\n      <th>1</th>\n      <td>False</td>\n      <td>False</td>\n      <td>False</td>\n      <td>False</td>\n      <td>False</td>\n      <td>False</td>\n      <td>False</td>\n      <td>False</td>\n      <td>False</td>\n      <td>False</td>\n      <td>False</td>\n    </tr>\n    <tr>\n      <th>2</th>\n      <td>False</td>\n      <td>False</td>\n      <td>False</td>\n      <td>False</td>\n      <td>False</td>\n      <td>False</td>\n      <td>False</td>\n      <td>False</td>\n      <td>False</td>\n      <td>False</td>\n      <td>False</td>\n    </tr>\n    <tr>\n      <th>3</th>\n      <td>False</td>\n      <td>False</td>\n      <td>False</td>\n      <td>False</td>\n      <td>False</td>\n      <td>False</td>\n      <td>False</td>\n      <td>False</td>\n      <td>False</td>\n      <td>False</td>\n      <td>False</td>\n    </tr>\n    <tr>\n      <th>4</th>\n      <td>False</td>\n      <td>False</td>\n      <td>False</td>\n      <td>False</td>\n      <td>False</td>\n      <td>False</td>\n      <td>False</td>\n      <td>False</td>\n      <td>False</td>\n      <td>False</td>\n      <td>False</td>\n    </tr>\n    <tr>\n      <th>...</th>\n      <td>...</td>\n      <td>...</td>\n      <td>...</td>\n      <td>...</td>\n      <td>...</td>\n      <td>...</td>\n      <td>...</td>\n      <td>...</td>\n      <td>...</td>\n      <td>...</td>\n      <td>...</td>\n    </tr>\n    <tr>\n      <th>16593</th>\n      <td>False</td>\n      <td>False</td>\n      <td>False</td>\n      <td>False</td>\n      <td>False</td>\n      <td>False</td>\n      <td>False</td>\n      <td>False</td>\n      <td>False</td>\n      <td>False</td>\n      <td>False</td>\n    </tr>\n    <tr>\n      <th>16594</th>\n      <td>False</td>\n      <td>False</td>\n      <td>False</td>\n      <td>False</td>\n      <td>False</td>\n      <td>False</td>\n      <td>False</td>\n      <td>False</td>\n      <td>False</td>\n      <td>False</td>\n      <td>False</td>\n    </tr>\n    <tr>\n      <th>16595</th>\n      <td>False</td>\n      <td>False</td>\n      <td>False</td>\n      <td>False</td>\n      <td>False</td>\n      <td>False</td>\n      <td>False</td>\n      <td>False</td>\n      <td>False</td>\n      <td>False</td>\n      <td>False</td>\n    </tr>\n    <tr>\n      <th>16596</th>\n      <td>False</td>\n      <td>False</td>\n      <td>False</td>\n      <td>False</td>\n      <td>False</td>\n      <td>False</td>\n      <td>False</td>\n      <td>False</td>\n      <td>False</td>\n      <td>False</td>\n      <td>False</td>\n    </tr>\n    <tr>\n      <th>16597</th>\n      <td>False</td>\n      <td>False</td>\n      <td>False</td>\n      <td>False</td>\n      <td>False</td>\n      <td>False</td>\n      <td>False</td>\n      <td>False</td>\n      <td>False</td>\n      <td>False</td>\n      <td>False</td>\n    </tr>\n  </tbody>\n</table>\n<p>16598 rows × 11 columns</p>\n</div>"
     },
     "execution_count": 18,
     "metadata": {},
     "output_type": "execute_result"
    }
   ],
   "source": [
    "df.isnull()"
   ],
   "metadata": {
    "collapsed": false,
    "ExecuteTime": {
     "end_time": "2023-11-01T15:02:41.052028300Z",
     "start_time": "2023-11-01T15:02:41.035743800Z"
    }
   }
  },
  {
   "cell_type": "code",
   "execution_count": 19,
   "outputs": [
    {
     "name": "stdout",
     "output_type": "stream",
     "text": [
      "{'Rank': 0, 'Name': 0, 'Platform': 0, 'Year': 271, 'Genre': 0, 'Publisher': 58, 'NA_Sales': 0, 'EU_Sales': 0, 'JP_Sales': 0, 'Other_Sales': 0, 'Global_Sales': 0}\n"
     ]
    }
   ],
   "source": [
    "null_dict = {}\n",
    "for col in df.columns:\n",
    "    null_dict[col]=df[col].isnull().sum()\n",
    "\n",
    "print(null_dict)"
   ],
   "metadata": {
    "collapsed": false,
    "ExecuteTime": {
     "end_time": "2023-11-01T15:02:41.939522400Z",
     "start_time": "2023-11-01T15:02:41.931377900Z"
    }
   }
  },
  {
   "cell_type": "code",
   "execution_count": 20,
   "outputs": [
    {
     "data": {
      "text/plain": "        Rank                             Name Platform    Year         Genre  \\\n179      180                  Madden NFL 2004      PS2     NaN        Sports   \n377      378                 FIFA Soccer 2004      PS2     NaN        Sports   \n431      432       LEGO Batman: The Videogame      Wii     NaN        Action   \n470      471       wwe Smackdown vs. Raw 2006      PS2     NaN      Fighting   \n607      608                   Space Invaders     2600     NaN       Shooter   \n...      ...                              ...      ...     ...           ...   \n16427  16430                     Virtua Quest       GC     NaN  Role-Playing   \n16493  16496                       The Smurfs      3DS     NaN        Action   \n16494  16497  Legends of Oz: Dorothy's Return      3DS  2014.0        Puzzle   \n16543  16546           Driving Simulator 2011       PC  2011.0        Racing   \n16553  16556                   Bound By Flame     X360  2014.0  Role-Playing   \n\n                                    Publisher  NA_Sales  EU_Sales  JP_Sales  \\\n179                           Electronic Arts      4.26      0.26      0.01   \n377                           Electronic Arts      0.59      2.36      0.04   \n431    Warner Bros. Interactive Entertainment      1.86      1.02      0.00   \n470                                       NaN      1.57      1.02      0.00   \n607                                     Atari      2.36      0.14      0.00   \n...                                       ...       ...       ...       ...   \n16427                                 Unknown      0.01      0.00      0.00   \n16493                                 Unknown      0.00      0.01      0.00   \n16494                                     NaN      0.00      0.01      0.00   \n16543                                     NaN      0.00      0.01      0.00   \n16553                                     NaN      0.00      0.01      0.00   \n\n       Other_Sales  Global_Sales  \n179           0.71          5.23  \n377           0.51          3.49  \n431           0.29          3.17  \n470           0.41          3.00  \n607           0.03          2.53  \n...            ...           ...  \n16427         0.00          0.01  \n16493         0.00          0.01  \n16494         0.00          0.01  \n16543         0.00          0.01  \n16553         0.00          0.01  \n\n[307 rows x 11 columns]",
      "text/html": "<div>\n<style scoped>\n    .dataframe tbody tr th:only-of-type {\n        vertical-align: middle;\n    }\n\n    .dataframe tbody tr th {\n        vertical-align: top;\n    }\n\n    .dataframe thead th {\n        text-align: right;\n    }\n</style>\n<table border=\"1\" class=\"dataframe\">\n  <thead>\n    <tr style=\"text-align: right;\">\n      <th></th>\n      <th>Rank</th>\n      <th>Name</th>\n      <th>Platform</th>\n      <th>Year</th>\n      <th>Genre</th>\n      <th>Publisher</th>\n      <th>NA_Sales</th>\n      <th>EU_Sales</th>\n      <th>JP_Sales</th>\n      <th>Other_Sales</th>\n      <th>Global_Sales</th>\n    </tr>\n  </thead>\n  <tbody>\n    <tr>\n      <th>179</th>\n      <td>180</td>\n      <td>Madden NFL 2004</td>\n      <td>PS2</td>\n      <td>NaN</td>\n      <td>Sports</td>\n      <td>Electronic Arts</td>\n      <td>4.26</td>\n      <td>0.26</td>\n      <td>0.01</td>\n      <td>0.71</td>\n      <td>5.23</td>\n    </tr>\n    <tr>\n      <th>377</th>\n      <td>378</td>\n      <td>FIFA Soccer 2004</td>\n      <td>PS2</td>\n      <td>NaN</td>\n      <td>Sports</td>\n      <td>Electronic Arts</td>\n      <td>0.59</td>\n      <td>2.36</td>\n      <td>0.04</td>\n      <td>0.51</td>\n      <td>3.49</td>\n    </tr>\n    <tr>\n      <th>431</th>\n      <td>432</td>\n      <td>LEGO Batman: The Videogame</td>\n      <td>Wii</td>\n      <td>NaN</td>\n      <td>Action</td>\n      <td>Warner Bros. Interactive Entertainment</td>\n      <td>1.86</td>\n      <td>1.02</td>\n      <td>0.00</td>\n      <td>0.29</td>\n      <td>3.17</td>\n    </tr>\n    <tr>\n      <th>470</th>\n      <td>471</td>\n      <td>wwe Smackdown vs. Raw 2006</td>\n      <td>PS2</td>\n      <td>NaN</td>\n      <td>Fighting</td>\n      <td>NaN</td>\n      <td>1.57</td>\n      <td>1.02</td>\n      <td>0.00</td>\n      <td>0.41</td>\n      <td>3.00</td>\n    </tr>\n    <tr>\n      <th>607</th>\n      <td>608</td>\n      <td>Space Invaders</td>\n      <td>2600</td>\n      <td>NaN</td>\n      <td>Shooter</td>\n      <td>Atari</td>\n      <td>2.36</td>\n      <td>0.14</td>\n      <td>0.00</td>\n      <td>0.03</td>\n      <td>2.53</td>\n    </tr>\n    <tr>\n      <th>...</th>\n      <td>...</td>\n      <td>...</td>\n      <td>...</td>\n      <td>...</td>\n      <td>...</td>\n      <td>...</td>\n      <td>...</td>\n      <td>...</td>\n      <td>...</td>\n      <td>...</td>\n      <td>...</td>\n    </tr>\n    <tr>\n      <th>16427</th>\n      <td>16430</td>\n      <td>Virtua Quest</td>\n      <td>GC</td>\n      <td>NaN</td>\n      <td>Role-Playing</td>\n      <td>Unknown</td>\n      <td>0.01</td>\n      <td>0.00</td>\n      <td>0.00</td>\n      <td>0.00</td>\n      <td>0.01</td>\n    </tr>\n    <tr>\n      <th>16493</th>\n      <td>16496</td>\n      <td>The Smurfs</td>\n      <td>3DS</td>\n      <td>NaN</td>\n      <td>Action</td>\n      <td>Unknown</td>\n      <td>0.00</td>\n      <td>0.01</td>\n      <td>0.00</td>\n      <td>0.00</td>\n      <td>0.01</td>\n    </tr>\n    <tr>\n      <th>16494</th>\n      <td>16497</td>\n      <td>Legends of Oz: Dorothy's Return</td>\n      <td>3DS</td>\n      <td>2014.0</td>\n      <td>Puzzle</td>\n      <td>NaN</td>\n      <td>0.00</td>\n      <td>0.01</td>\n      <td>0.00</td>\n      <td>0.00</td>\n      <td>0.01</td>\n    </tr>\n    <tr>\n      <th>16543</th>\n      <td>16546</td>\n      <td>Driving Simulator 2011</td>\n      <td>PC</td>\n      <td>2011.0</td>\n      <td>Racing</td>\n      <td>NaN</td>\n      <td>0.00</td>\n      <td>0.01</td>\n      <td>0.00</td>\n      <td>0.00</td>\n      <td>0.01</td>\n    </tr>\n    <tr>\n      <th>16553</th>\n      <td>16556</td>\n      <td>Bound By Flame</td>\n      <td>X360</td>\n      <td>2014.0</td>\n      <td>Role-Playing</td>\n      <td>NaN</td>\n      <td>0.00</td>\n      <td>0.01</td>\n      <td>0.00</td>\n      <td>0.00</td>\n      <td>0.01</td>\n    </tr>\n  </tbody>\n</table>\n<p>307 rows × 11 columns</p>\n</div>"
     },
     "execution_count": 20,
     "metadata": {},
     "output_type": "execute_result"
    }
   ],
   "source": [
    "null_rows = df.loc[df.isna().any(axis=1)]\n",
    "null_rows"
   ],
   "metadata": {
    "collapsed": false,
    "ExecuteTime": {
     "end_time": "2023-11-01T15:02:42.547551Z",
     "start_time": "2023-11-01T15:02:42.531559800Z"
    }
   }
  },
  {
   "cell_type": "code",
   "execution_count": 23,
   "outputs": [],
   "source": [
    "missing_years = df[df['Year'].isnull()]"
   ],
   "metadata": {
    "collapsed": false,
    "ExecuteTime": {
     "end_time": "2023-11-01T15:05:39.531178400Z",
     "start_time": "2023-11-01T15:05:39.527671900Z"
    }
   }
  },
  {
   "cell_type": "code",
   "execution_count": 24,
   "outputs": [],
   "source": [
    "missing_years_names = missing_years['Name'].tolist()"
   ],
   "metadata": {
    "collapsed": false,
    "ExecuteTime": {
     "end_time": "2023-11-01T15:06:28.618022900Z",
     "start_time": "2023-11-01T15:06:28.615020Z"
    }
   }
  },
  {
   "cell_type": "code",
   "execution_count": 25,
   "outputs": [
    {
     "data": {
      "text/plain": "['Madden NFL 2004',\n 'FIFA Soccer 2004',\n 'LEGO Batman: The Videogame',\n 'wwe Smackdown vs. Raw 2006',\n 'Space Invaders',\n 'Rock Band',\n \"Frogger's Adventures: Temple of the Frog\",\n 'LEGO Indiana Jones: The Original Adventures',\n 'Call of Duty 3',\n 'Rock Band',\n 'Call of Duty: Black Ops',\n 'Rock Band',\n 'Triple Play 99',\n 'LEGO Harry Potter: Years 5-7',\n 'LEGO Batman: The Videogame',\n 'Adventure',\n 'Combat',\n 'NASCAR Thunder 2003',\n 'Hitman 2: Silent Assassin',\n 'Rock Band',\n 'Legacy of Kain: Soul Reaver',\n 'Donkey Kong Land III',\n 'LEGO Harry Potter: Years 5-7',\n 'Air-Sea Battle',\n 'Suikoden III',\n 'Yakuza 4',\n 'LEGO Harry Potter: Years 5-7',\n 'Wheel of Fortune',\n 'Namco Museum',\n 'Rhythm Heaven',\n 'The Lord of the Rings: War in the North',\n 'The Lord of the Rings: War in the North',\n 'Madden NFL 07',\n 'MLB SlugFest 20-03',\n 'Shaun White Snowboarding',\n 'PES 2009: Pro Evolution Soccer',\n 'Madden NFL 11',\n 'WarioWare: Twisted!',\n 'LEGO Harry Potter: Years 5-7',\n 'Test Drive Unlimited 2',\n 'The Chronicles of Narnia: The Lion, The Witch and The Wardrobe',\n 'Test Drive Unlimited 2',\n 'Monster Hunter 2',\n 'Advance Wars: Days of Ruin',\n 'Metal Gear Solid 2: Substance',\n 'The Golden Compass',\n 'Madden NFL 06',\n 'NASCAR: Dirt to Daytona',\n 'Madden NFL 2002',\n 'Def Jam: Fight for NY',\n 'NBA Street Vol. 2',\n 'Fishing Derby',\n 'Wet',\n 'Sonic the Hedgehog',\n 'Karate',\n 'Tiger Woods PGA Tour 07',\n 'Circus Atari',\n 'The Chronicles of Riddick: Escape from Butcher Bay',\n \"Maze Craze: A Game of Cops 'n Robbers\",\n 'Silent Hill: Homecoming',\n 'Super Breakout',\n \"Robert Ludlum's The Bourne Conspiracy\",\n 'NHL Slapshot',\n 'TERA',\n 'LEGO Harry Potter: Years 5-7',\n 'NFL GameDay 2003',\n 'Silent Hill: Homecoming',\n 'Harvest Moon: Save the Homeland',\n \"Robert Ludlum's The Bourne Conspiracy\",\n 'Hangman',\n 'The Golden Compass',\n 'NBA Live 2003',\n 'Bejeweled 3',\n \"Cubix Robots for Everyone: Clash 'n' Bash\",\n 'Tropico 4',\n 'Tomb Raider (2013)',\n 'Dragon Ball Z: Budokai Tenkaichi 2 (JP sales)',\n 'Custom Robo',\n 'Final Fantasy XI',\n 'Singularity',\n 'Dragster',\n 'All-Star Baseball 2005',\n 'Star Wars Jedi Knight II: Jedi Outcast',\n 'Slot Machine',\n 'Shrek the Third',\n 'The Dukes of Hazzard II: Daisy Dukes It Out',\n 'Disgaea 3: Absence of Detention',\n 'NBA Live 2003',\n 'Harvest Moon: The Tale of Two Towns',\n 'Nicktoons: Battle for Volcano Island',\n 'Haven: Call of the King',\n 'Unreal Championship 2: The Liandri Conflict',\n 'The Chronicles of Narnia: The Lion, The Witch and The Wardrobe',\n 'Pac-Man Fever',\n 'The Legend of Zelda: The Minish Cap(weekly JP sales)',\n 'Indy 500',\n 'Gun',\n 'Flag Capture',\n 'LEGO Harry Potter: Years 5-7',\n 'Rock Revolution',\n 'Jonah Lomu Rugby Challenge',\n 'College Hoops 2K6',\n 'Mega Man X Collection',\n 'BioShock 2',\n 'Singularity',\n 'Danganronpa: Trigger Happy Havoc',\n 'DanceDanceRevolution II',\n \"Tony Hawk's Downhill Jam\",\n 'Big Beach Sports 2',\n 'Jet X20',\n 'Tribes: Aerial Assault',\n 'Move Fitness',\n 'LEGO Harry Potter: Years 5-7',\n 'Yu Yu Hakusho: Dark Tournament',\n 'Ghostbusters II',\n 'Breakaway IV',\n 'Robotech: Battlecry',\n 'Valkyria Chronicles III: Unrecorded Chronicles',\n 'WRC: FIA World Rally Championship',\n 'Famista 64',\n 'Dead Space 3',\n 'Test Drive Unlimited 2',\n 'Pet Zombies',\n 'Star Trek: Legacy',\n 'Trauma Team',\n 'Backbreaker',\n 'Twisted Metal: Small Brawl',\n 'Otomedius Excellent',\n 'NBA Starting Five',\n 'Teen Titans',\n 'Backbreaker',\n \"James Cameron's Dark Angel\",\n 'Sword of the Samurai',\n 'Splatterhouse',\n 'Alone in the Dark: The New Nightmare',\n 'Vegas Party',\n 'Jurassic Park: The Game',\n 'Home Run',\n 'eJay Clubworld',\n 'All-Star Baseball 2005',\n 'Our House Party!',\n 'WCW Backstage Assault',\n 'Bejeweled 3',\n 'Bejeweled 3',\n \"Disney's Cinderella: Magical Dreams\",\n 'Transworld Surf',\n 'Street Fighter IV',\n 'Nintendo Puzzle Collection',\n 'Charm Girls Club: My Fashion Mall',\n 'WRC: FIA World Rally Championship',\n 'Record of Agarest War Zero',\n 'Super Robot Wars OG Saga: Masou Kishin II - Revelation of Evil God',\n 'Saru! Get You! Million Monkeys',\n 'Street Hoops',\n 'Godzilla: Destroy All Monsters Melee',\n 'The Daring Game for Girls',\n 'Rocksmith',\n 'Major League Baseball 2K6',\n 'Happy Feet Two',\n 'Star Trek: Conquest',\n 'GiFTPiA',\n \"Disney's Chicken Little: Ace In Action\",\n 'Happy Feet Two',\n 'Atsumare! Power Pro Kun no DS Koushien',\n 'My Healthy Cooking Coach',\n 'Happy Feet Two',\n 'Luminous Arc 2 (JP sales)',\n 'The Daring Game for Girls',\n 'Egg Monster Hero',\n 'Samurai Shodown Anthology',\n 'Demon Chaos',\n 'Action Man-Operation Extreme',\n 'Super Puzzle Fighter II',\n 'Happy Feet Two',\n 'Charm Girls Club: My Fashion Show',\n 'Get Fit with Mel B',\n 'Face Racers: Photo Finish',\n 'Zero: Tsukihami no Kamen',\n 'The Hidden',\n 'Rock Revolution',\n 'Dead Island: Riptide',\n 'Mega Man Battle Network: Operation Shooting Star',\n 'Smashing Drive',\n 'Dream Trigger 3D',\n 'Tornado',\n \"McFarlane's Evil Prophecy\",\n 'Drake of the 99 Dragons',\n 'Port Royale 3',\n 'Build-A-Bear Workshop: Friendship Valley',\n 'Alex Rider: Stormbreaker',\n 'Yoostar on MTV',\n 'Rayman Arena',\n 'National Geographic Challenge!',\n 'Port Royale 3',\n 'Jewel Link Chronicles: Mountains of Madness',\n 'Chou Soujuu Mecha MG',\n 'Prinny: Can I Really Be The Hero? (US sales)',\n 'Combat Elite: WWII Paratroopers',\n 'Captain America: Super Soldier',\n \"Flip's Twisted World\",\n 'Mobile Ops: The One Year War',\n \"Tom Clancy's Rainbow Six: Critical Hour\",\n 'GRID',\n 'Captain America: Super Soldier',\n 'Reader Rabbit 2nd Grade',\n 'Mountain Bike Adrenaline',\n 'Tour de France 2011',\n 'Drill Dozer',\n 'Battle vs. Chess',\n 'The History Channel: Great Battles - Medieval',\n 'Monster Hunter Frontier Online',\n 'RollerCoaster Tycoon',\n 'GRID',\n 'B.L.U.E.: Legend of Water',\n \"Luxor: Pharaoh's Challenge\",\n 'NHL Hitz Pro',\n 'Sega Rally 2006',\n 'World of Tanks',\n 'Swords',\n 'Half-Minute Hero 2',\n 'Clockwork Empires',\n 'Housekeeping',\n 'Major League Baseball 2K8',\n 'Sabre Wulf',\n 'Beyond the Labyrinth',\n 'Bikkuriman Daijiten',\n 'Majesty 2: The Fantasy Kingdom Sim',\n 'Fullmetal Alchemist: Brotherhood',\n 'Combat Elite: WWII Paratroopers',\n 'Samurai Spirits: Tenkaichi Kenkakuden',\n 'Battle vs. Chess',\n 'Tom and Jerry in War of the Whiskers',\n 'Super Duper Sumos',\n 'Legacy of Ys: Books I & II',\n 'The King of Fighters: Maximum Impact - Maniax',\n 'Combat Wings: The Great Battles of WWII',\n 'Tube Slider',\n 'Umineko no Naku Koro ni San: Shinjitsu to Gensou no Yasoukyoku',\n 'Wii de Asobu: Metroid Prime',\n 'Payout Poker & Casino',\n 'Wii de Asobu: Metroid Prime',\n 'Saint',\n 'Steal Princess',\n 'Mario Tennis',\n 'Runaway: A Twist of Fate',\n \"Yu-Gi-Oh! 5D's Wheelie Breakers (JP sales)\",\n \"Cabela's Alaskan Adventure\",\n 'Writing and Speaking Beautiful Japanese DS',\n 'Virtua Quest',\n \"Shonen Jump's Yu-Gi-Oh! GX Card Almanac\",\n 'Without Warning',\n 'Football Manager 2007',\n 'Ferrari: The Race Experience',\n 'PDC World Championship Darts 2008',\n 'Dinotopia: The Sunstone Odyssey',\n \"Dance! It's Your Stage\",\n 'Jet Impulse',\n 'Dream Dancer',\n 'PDC World Championship Darts 2008',\n 'WRC: FIA World Rally Championship',\n 'Aquaman: Battle for Atlantis',\n 'Homeworld Remastered Collection',\n 'Shorts',\n 'AKB1/48: Idol to Guam de Koishitara...',\n 'Brothers in Arms: Furious 4',\n 'Agarest Senki: Re-appearance',\n 'Freaky Flyers',\n 'Inversion',\n 'Hakuouki: Shinsengumi Kitan',\n 'Virtua Quest',\n 'The Smurfs']"
     },
     "execution_count": 25,
     "metadata": {},
     "output_type": "execute_result"
    }
   ],
   "source": [
    "missing_years_names"
   ],
   "metadata": {
    "collapsed": false,
    "ExecuteTime": {
     "end_time": "2023-11-01T15:06:35.675692200Z",
     "start_time": "2023-11-01T15:06:35.670685900Z"
    }
   }
  },
  {
   "cell_type": "code",
   "execution_count": 26,
   "outputs": [],
   "source": [
    "year_lookups = {}"
   ],
   "metadata": {
    "collapsed": false,
    "ExecuteTime": {
     "end_time": "2023-11-01T15:08:52.712765200Z",
     "start_time": "2023-11-01T15:08:52.708237400Z"
    }
   }
  },
  {
   "cell_type": "code",
   "execution_count": 29,
   "outputs": [
    {
     "ename": "AttributeError",
     "evalue": "'NoneType' object has no attribute 'getText'",
     "output_type": "error",
     "traceback": [
      "\u001B[1;31m---------------------------------------------------------------------------\u001B[0m",
      "\u001B[1;31mAttributeError\u001B[0m                            Traceback (most recent call last)",
      "Cell \u001B[1;32mIn[29], line 7\u001B[0m\n\u001B[0;32m      4\u001B[0m result \u001B[38;5;241m=\u001B[39m requests\u001B[38;5;241m.\u001B[39mget(url)\n\u001B[0;32m      5\u001B[0m soup \u001B[38;5;241m=\u001B[39m bs(result\u001B[38;5;241m.\u001B[39mtext, \u001B[38;5;124m'\u001B[39m\u001B[38;5;124mhtml.parser\u001B[39m\u001B[38;5;124m'\u001B[39m)\n\u001B[1;32m----> 7\u001B[0m year \u001B[38;5;241m=\u001B[39m \u001B[43msoup\u001B[49m\u001B[38;5;241;43m.\u001B[39;49m\u001B[43mfind\u001B[49m\u001B[43m(\u001B[49m\u001B[38;5;124;43m'\u001B[39;49m\u001B[38;5;124;43mdiv\u001B[39;49m\u001B[38;5;124;43m'\u001B[39;49m\u001B[43m,\u001B[49m\u001B[43m \u001B[49m\u001B[43mclass_\u001B[49m\u001B[38;5;241;43m=\u001B[39;49m\u001B[38;5;124;43m'\u001B[39;49m\u001B[38;5;124;43mresult_release_date\u001B[39;49m\u001B[38;5;124;43m'\u001B[39;49m\u001B[43m)\u001B[49m\u001B[38;5;241;43m.\u001B[39;49m\u001B[43mgetText\u001B[49m()\n\u001B[0;32m      9\u001B[0m year_lookups[name] \u001B[38;5;241m=\u001B[39m year\n",
      "\u001B[1;31mAttributeError\u001B[0m: 'NoneType' object has no attribute 'getText'"
     ]
    }
   ],
   "source": [
    "for name in missing_years_names:\n",
    "\n",
    "    url = \"https://www.giantbomb.com/search/?q=\" + name\n",
    "    result = requests.get(url)\n",
    "    soup = bs(result.text, 'html.parser')\n",
    "\n",
    "    year = soup.find('div', class_='result_release_date').getText()\n",
    "\n",
    "    year_lookups[name] = year\n"
   ],
   "metadata": {
    "collapsed": false,
    "ExecuteTime": {
     "end_time": "2023-11-01T15:09:39.156998Z",
     "start_time": "2023-11-01T15:09:38.619084Z"
    }
   }
  },
  {
   "cell_type": "code",
   "execution_count": null,
   "outputs": [],
   "source": [
    "                                                                                                                                                                                                                                                                                                                    "
   ],
   "metadata": {
    "collapsed": false
   }
  },
  {
   "cell_type": "code",
   "execution_count": null,
   "outputs": [],
   "source": [],
   "metadata": {
    "collapsed": false
   }
  }
 ],
 "metadata": {
  "kernelspec": {
   "display_name": "Python 3",
   "language": "python",
   "name": "python3"
  },
  "language_info": {
   "codemirror_mode": {
    "name": "ipython",
    "version": 2
   },
   "file_extension": ".py",
   "mimetype": "text/x-python",
   "name": "python",
   "nbconvert_exporter": "python",
   "pygments_lexer": "ipython2",
   "version": "2.7.6"
  }
 },
 "nbformat": 4,
 "nbformat_minor": 0
}
