{
 "cells": [
  {
   "cell_type": "code",
   "execution_count": 2,
   "metadata": {
    "collapsed": true,
    "ExecuteTime": {
     "end_time": "2023-10-26T11:07:23.305628200Z",
     "start_time": "2023-10-26T11:07:23.292001300Z"
    }
   },
   "outputs": [],
   "source": [
    "import pandas as pd\n",
    "import matplotlib as plt\n",
    "import seaborn as sns\n",
    "import numpy as np"
   ]
  },
  {
   "cell_type": "code",
   "execution_count": 3,
   "outputs": [],
   "source": [
    "df = pd.read_csv('vgsales.csv')"
   ],
   "metadata": {
    "collapsed": false,
    "ExecuteTime": {
     "end_time": "2023-10-26T11:07:57.444879900Z",
     "start_time": "2023-10-26T11:07:57.418796600Z"
    }
   }
  },
  {
   "cell_type": "code",
   "execution_count": 4,
   "outputs": [
    {
     "data": {
      "text/plain": "   Rank                      Name Platform    Year         Genre Publisher  \\\n0     1                Wii Sports      Wii  2006.0        Sports  Nintendo   \n1     2         Super Mario Bros.      NES  1985.0      Platform  Nintendo   \n2     3            Mario Kart Wii      Wii  2008.0        Racing  Nintendo   \n3     4         Wii Sports Resort      Wii  2009.0        Sports  Nintendo   \n4     5  Pokemon Red/Pokemon Blue       GB  1996.0  Role-Playing  Nintendo   \n\n   NA_Sales  EU_Sales  JP_Sales  Other_Sales  Global_Sales  \n0     41.49     29.02      3.77         8.46         82.74  \n1     29.08      3.58      6.81         0.77         40.24  \n2     15.85     12.88      3.79         3.31         35.82  \n3     15.75     11.01      3.28         2.96         33.00  \n4     11.27      8.89     10.22         1.00         31.37  ",
      "text/html": "<div>\n<style scoped>\n    .dataframe tbody tr th:only-of-type {\n        vertical-align: middle;\n    }\n\n    .dataframe tbody tr th {\n        vertical-align: top;\n    }\n\n    .dataframe thead th {\n        text-align: right;\n    }\n</style>\n<table border=\"1\" class=\"dataframe\">\n  <thead>\n    <tr style=\"text-align: right;\">\n      <th></th>\n      <th>Rank</th>\n      <th>Name</th>\n      <th>Platform</th>\n      <th>Year</th>\n      <th>Genre</th>\n      <th>Publisher</th>\n      <th>NA_Sales</th>\n      <th>EU_Sales</th>\n      <th>JP_Sales</th>\n      <th>Other_Sales</th>\n      <th>Global_Sales</th>\n    </tr>\n  </thead>\n  <tbody>\n    <tr>\n      <th>0</th>\n      <td>1</td>\n      <td>Wii Sports</td>\n      <td>Wii</td>\n      <td>2006.0</td>\n      <td>Sports</td>\n      <td>Nintendo</td>\n      <td>41.49</td>\n      <td>29.02</td>\n      <td>3.77</td>\n      <td>8.46</td>\n      <td>82.74</td>\n    </tr>\n    <tr>\n      <th>1</th>\n      <td>2</td>\n      <td>Super Mario Bros.</td>\n      <td>NES</td>\n      <td>1985.0</td>\n      <td>Platform</td>\n      <td>Nintendo</td>\n      <td>29.08</td>\n      <td>3.58</td>\n      <td>6.81</td>\n      <td>0.77</td>\n      <td>40.24</td>\n    </tr>\n    <tr>\n      <th>2</th>\n      <td>3</td>\n      <td>Mario Kart Wii</td>\n      <td>Wii</td>\n      <td>2008.0</td>\n      <td>Racing</td>\n      <td>Nintendo</td>\n      <td>15.85</td>\n      <td>12.88</td>\n      <td>3.79</td>\n      <td>3.31</td>\n      <td>35.82</td>\n    </tr>\n    <tr>\n      <th>3</th>\n      <td>4</td>\n      <td>Wii Sports Resort</td>\n      <td>Wii</td>\n      <td>2009.0</td>\n      <td>Sports</td>\n      <td>Nintendo</td>\n      <td>15.75</td>\n      <td>11.01</td>\n      <td>3.28</td>\n      <td>2.96</td>\n      <td>33.00</td>\n    </tr>\n    <tr>\n      <th>4</th>\n      <td>5</td>\n      <td>Pokemon Red/Pokemon Blue</td>\n      <td>GB</td>\n      <td>1996.0</td>\n      <td>Role-Playing</td>\n      <td>Nintendo</td>\n      <td>11.27</td>\n      <td>8.89</td>\n      <td>10.22</td>\n      <td>1.00</td>\n      <td>31.37</td>\n    </tr>\n  </tbody>\n</table>\n</div>"
     },
     "execution_count": 4,
     "metadata": {},
     "output_type": "execute_result"
    }
   ],
   "source": [
    "df.head()"
   ],
   "metadata": {
    "collapsed": false,
    "ExecuteTime": {
     "end_time": "2023-10-26T11:08:06.178936Z",
     "start_time": "2023-10-26T11:08:06.130665700Z"
    }
   }
  },
  {
   "cell_type": "code",
   "execution_count": 8,
   "outputs": [
    {
     "data": {
      "text/plain": "        Rank   Name  Platform   Year  Genre  Publisher  NA_Sales  EU_Sales  \\\n0      False  False     False  False  False      False     False     False   \n1      False  False     False  False  False      False     False     False   \n2      False  False     False  False  False      False     False     False   \n3      False  False     False  False  False      False     False     False   \n4      False  False     False  False  False      False     False     False   \n...      ...    ...       ...    ...    ...        ...       ...       ...   \n16593  False  False     False  False  False      False     False     False   \n16594  False  False     False  False  False      False     False     False   \n16595  False  False     False  False  False      False     False     False   \n16596  False  False     False  False  False      False     False     False   \n16597  False  False     False  False  False      False     False     False   \n\n       JP_Sales  Other_Sales  Global_Sales  \n0         False        False         False  \n1         False        False         False  \n2         False        False         False  \n3         False        False         False  \n4         False        False         False  \n...         ...          ...           ...  \n16593     False        False         False  \n16594     False        False         False  \n16595     False        False         False  \n16596     False        False         False  \n16597     False        False         False  \n\n[16598 rows x 11 columns]",
      "text/html": "<div>\n<style scoped>\n    .dataframe tbody tr th:only-of-type {\n        vertical-align: middle;\n    }\n\n    .dataframe tbody tr th {\n        vertical-align: top;\n    }\n\n    .dataframe thead th {\n        text-align: right;\n    }\n</style>\n<table border=\"1\" class=\"dataframe\">\n  <thead>\n    <tr style=\"text-align: right;\">\n      <th></th>\n      <th>Rank</th>\n      <th>Name</th>\n      <th>Platform</th>\n      <th>Year</th>\n      <th>Genre</th>\n      <th>Publisher</th>\n      <th>NA_Sales</th>\n      <th>EU_Sales</th>\n      <th>JP_Sales</th>\n      <th>Other_Sales</th>\n      <th>Global_Sales</th>\n    </tr>\n  </thead>\n  <tbody>\n    <tr>\n      <th>0</th>\n      <td>False</td>\n      <td>False</td>\n      <td>False</td>\n      <td>False</td>\n      <td>False</td>\n      <td>False</td>\n      <td>False</td>\n      <td>False</td>\n      <td>False</td>\n      <td>False</td>\n      <td>False</td>\n    </tr>\n    <tr>\n      <th>1</th>\n      <td>False</td>\n      <td>False</td>\n      <td>False</td>\n      <td>False</td>\n      <td>False</td>\n      <td>False</td>\n      <td>False</td>\n      <td>False</td>\n      <td>False</td>\n      <td>False</td>\n      <td>False</td>\n    </tr>\n    <tr>\n      <th>2</th>\n      <td>False</td>\n      <td>False</td>\n      <td>False</td>\n      <td>False</td>\n      <td>False</td>\n      <td>False</td>\n      <td>False</td>\n      <td>False</td>\n      <td>False</td>\n      <td>False</td>\n      <td>False</td>\n    </tr>\n    <tr>\n      <th>3</th>\n      <td>False</td>\n      <td>False</td>\n      <td>False</td>\n      <td>False</td>\n      <td>False</td>\n      <td>False</td>\n      <td>False</td>\n      <td>False</td>\n      <td>False</td>\n      <td>False</td>\n      <td>False</td>\n    </tr>\n    <tr>\n      <th>4</th>\n      <td>False</td>\n      <td>False</td>\n      <td>False</td>\n      <td>False</td>\n      <td>False</td>\n      <td>False</td>\n      <td>False</td>\n      <td>False</td>\n      <td>False</td>\n      <td>False</td>\n      <td>False</td>\n    </tr>\n    <tr>\n      <th>...</th>\n      <td>...</td>\n      <td>...</td>\n      <td>...</td>\n      <td>...</td>\n      <td>...</td>\n      <td>...</td>\n      <td>...</td>\n      <td>...</td>\n      <td>...</td>\n      <td>...</td>\n      <td>...</td>\n    </tr>\n    <tr>\n      <th>16593</th>\n      <td>False</td>\n      <td>False</td>\n      <td>False</td>\n      <td>False</td>\n      <td>False</td>\n      <td>False</td>\n      <td>False</td>\n      <td>False</td>\n      <td>False</td>\n      <td>False</td>\n      <td>False</td>\n    </tr>\n    <tr>\n      <th>16594</th>\n      <td>False</td>\n      <td>False</td>\n      <td>False</td>\n      <td>False</td>\n      <td>False</td>\n      <td>False</td>\n      <td>False</td>\n      <td>False</td>\n      <td>False</td>\n      <td>False</td>\n      <td>False</td>\n    </tr>\n    <tr>\n      <th>16595</th>\n      <td>False</td>\n      <td>False</td>\n      <td>False</td>\n      <td>False</td>\n      <td>False</td>\n      <td>False</td>\n      <td>False</td>\n      <td>False</td>\n      <td>False</td>\n      <td>False</td>\n      <td>False</td>\n    </tr>\n    <tr>\n      <th>16596</th>\n      <td>False</td>\n      <td>False</td>\n      <td>False</td>\n      <td>False</td>\n      <td>False</td>\n      <td>False</td>\n      <td>False</td>\n      <td>False</td>\n      <td>False</td>\n      <td>False</td>\n      <td>False</td>\n    </tr>\n    <tr>\n      <th>16597</th>\n      <td>False</td>\n      <td>False</td>\n      <td>False</td>\n      <td>False</td>\n      <td>False</td>\n      <td>False</td>\n      <td>False</td>\n      <td>False</td>\n      <td>False</td>\n      <td>False</td>\n      <td>False</td>\n    </tr>\n  </tbody>\n</table>\n<p>16598 rows × 11 columns</p>\n</div>"
     },
     "execution_count": 8,
     "metadata": {},
     "output_type": "execute_result"
    }
   ],
   "source": [
    "df.isnull()"
   ],
   "metadata": {
    "collapsed": false,
    "ExecuteTime": {
     "end_time": "2023-10-26T11:13:05.186212400Z",
     "start_time": "2023-10-26T11:13:05.170049800Z"
    }
   }
  },
  {
   "cell_type": "code",
   "execution_count": 9,
   "outputs": [
    {
     "name": "stdout",
     "output_type": "stream",
     "text": [
      "{'Rank': 0, 'Name': 0, 'Platform': 0, 'Year': 271, 'Genre': 0, 'Publisher': 58, 'NA_Sales': 0, 'EU_Sales': 0, 'JP_Sales': 0, 'Other_Sales': 0, 'Global_Sales': 0}\n"
     ]
    }
   ],
   "source": [
    "null_dict = {}\n",
    "for col in df.columns:\n",
    "    null_dict[col]=df[col].isnull().sum()\n",
    "\n",
    "print(null_dict)"
   ],
   "metadata": {
    "collapsed": false,
    "ExecuteTime": {
     "end_time": "2023-10-26T11:17:35.025657700Z",
     "start_time": "2023-10-26T11:17:35.020572800Z"
    }
   }
  },
  {
   "cell_type": "code",
   "execution_count": 14,
   "outputs": [
    {
     "data": {
      "text/plain": "        Rank                             Name Platform    Year         Genre  \\\n179      180                  Madden NFL 2004      PS2     NaN        Sports   \n377      378                 FIFA Soccer 2004      PS2     NaN        Sports   \n431      432       LEGO Batman: The Videogame      Wii     NaN        Action   \n470      471       wwe Smackdown vs. Raw 2006      PS2     NaN      Fighting   \n607      608                   Space Invaders     2600     NaN       Shooter   \n...      ...                              ...      ...     ...           ...   \n16427  16430                     Virtua Quest       GC     NaN  Role-Playing   \n16493  16496                       The Smurfs      3DS     NaN        Action   \n16494  16497  Legends of Oz: Dorothy's Return      3DS  2014.0        Puzzle   \n16543  16546           Driving Simulator 2011       PC  2011.0        Racing   \n16553  16556                   Bound By Flame     X360  2014.0  Role-Playing   \n\n                                    Publisher  NA_Sales  EU_Sales  JP_Sales  \\\n179                           Electronic Arts      4.26      0.26      0.01   \n377                           Electronic Arts      0.59      2.36      0.04   \n431    Warner Bros. Interactive Entertainment      1.86      1.02      0.00   \n470                                       NaN      1.57      1.02      0.00   \n607                                     Atari      2.36      0.14      0.00   \n...                                       ...       ...       ...       ...   \n16427                                 Unknown      0.01      0.00      0.00   \n16493                                 Unknown      0.00      0.01      0.00   \n16494                                     NaN      0.00      0.01      0.00   \n16543                                     NaN      0.00      0.01      0.00   \n16553                                     NaN      0.00      0.01      0.00   \n\n       Other_Sales  Global_Sales  \n179           0.71          5.23  \n377           0.51          3.49  \n431           0.29          3.17  \n470           0.41          3.00  \n607           0.03          2.53  \n...            ...           ...  \n16427         0.00          0.01  \n16493         0.00          0.01  \n16494         0.00          0.01  \n16543         0.00          0.01  \n16553         0.00          0.01  \n\n[307 rows x 11 columns]",
      "text/html": "<div>\n<style scoped>\n    .dataframe tbody tr th:only-of-type {\n        vertical-align: middle;\n    }\n\n    .dataframe tbody tr th {\n        vertical-align: top;\n    }\n\n    .dataframe thead th {\n        text-align: right;\n    }\n</style>\n<table border=\"1\" class=\"dataframe\">\n  <thead>\n    <tr style=\"text-align: right;\">\n      <th></th>\n      <th>Rank</th>\n      <th>Name</th>\n      <th>Platform</th>\n      <th>Year</th>\n      <th>Genre</th>\n      <th>Publisher</th>\n      <th>NA_Sales</th>\n      <th>EU_Sales</th>\n      <th>JP_Sales</th>\n      <th>Other_Sales</th>\n      <th>Global_Sales</th>\n    </tr>\n  </thead>\n  <tbody>\n    <tr>\n      <th>179</th>\n      <td>180</td>\n      <td>Madden NFL 2004</td>\n      <td>PS2</td>\n      <td>NaN</td>\n      <td>Sports</td>\n      <td>Electronic Arts</td>\n      <td>4.26</td>\n      <td>0.26</td>\n      <td>0.01</td>\n      <td>0.71</td>\n      <td>5.23</td>\n    </tr>\n    <tr>\n      <th>377</th>\n      <td>378</td>\n      <td>FIFA Soccer 2004</td>\n      <td>PS2</td>\n      <td>NaN</td>\n      <td>Sports</td>\n      <td>Electronic Arts</td>\n      <td>0.59</td>\n      <td>2.36</td>\n      <td>0.04</td>\n      <td>0.51</td>\n      <td>3.49</td>\n    </tr>\n    <tr>\n      <th>431</th>\n      <td>432</td>\n      <td>LEGO Batman: The Videogame</td>\n      <td>Wii</td>\n      <td>NaN</td>\n      <td>Action</td>\n      <td>Warner Bros. Interactive Entertainment</td>\n      <td>1.86</td>\n      <td>1.02</td>\n      <td>0.00</td>\n      <td>0.29</td>\n      <td>3.17</td>\n    </tr>\n    <tr>\n      <th>470</th>\n      <td>471</td>\n      <td>wwe Smackdown vs. Raw 2006</td>\n      <td>PS2</td>\n      <td>NaN</td>\n      <td>Fighting</td>\n      <td>NaN</td>\n      <td>1.57</td>\n      <td>1.02</td>\n      <td>0.00</td>\n      <td>0.41</td>\n      <td>3.00</td>\n    </tr>\n    <tr>\n      <th>607</th>\n      <td>608</td>\n      <td>Space Invaders</td>\n      <td>2600</td>\n      <td>NaN</td>\n      <td>Shooter</td>\n      <td>Atari</td>\n      <td>2.36</td>\n      <td>0.14</td>\n      <td>0.00</td>\n      <td>0.03</td>\n      <td>2.53</td>\n    </tr>\n    <tr>\n      <th>...</th>\n      <td>...</td>\n      <td>...</td>\n      <td>...</td>\n      <td>...</td>\n      <td>...</td>\n      <td>...</td>\n      <td>...</td>\n      <td>...</td>\n      <td>...</td>\n      <td>...</td>\n      <td>...</td>\n    </tr>\n    <tr>\n      <th>16427</th>\n      <td>16430</td>\n      <td>Virtua Quest</td>\n      <td>GC</td>\n      <td>NaN</td>\n      <td>Role-Playing</td>\n      <td>Unknown</td>\n      <td>0.01</td>\n      <td>0.00</td>\n      <td>0.00</td>\n      <td>0.00</td>\n      <td>0.01</td>\n    </tr>\n    <tr>\n      <th>16493</th>\n      <td>16496</td>\n      <td>The Smurfs</td>\n      <td>3DS</td>\n      <td>NaN</td>\n      <td>Action</td>\n      <td>Unknown</td>\n      <td>0.00</td>\n      <td>0.01</td>\n      <td>0.00</td>\n      <td>0.00</td>\n      <td>0.01</td>\n    </tr>\n    <tr>\n      <th>16494</th>\n      <td>16497</td>\n      <td>Legends of Oz: Dorothy's Return</td>\n      <td>3DS</td>\n      <td>2014.0</td>\n      <td>Puzzle</td>\n      <td>NaN</td>\n      <td>0.00</td>\n      <td>0.01</td>\n      <td>0.00</td>\n      <td>0.00</td>\n      <td>0.01</td>\n    </tr>\n    <tr>\n      <th>16543</th>\n      <td>16546</td>\n      <td>Driving Simulator 2011</td>\n      <td>PC</td>\n      <td>2011.0</td>\n      <td>Racing</td>\n      <td>NaN</td>\n      <td>0.00</td>\n      <td>0.01</td>\n      <td>0.00</td>\n      <td>0.00</td>\n      <td>0.01</td>\n    </tr>\n    <tr>\n      <th>16553</th>\n      <td>16556</td>\n      <td>Bound By Flame</td>\n      <td>X360</td>\n      <td>2014.0</td>\n      <td>Role-Playing</td>\n      <td>NaN</td>\n      <td>0.00</td>\n      <td>0.01</td>\n      <td>0.00</td>\n      <td>0.00</td>\n      <td>0.01</td>\n    </tr>\n  </tbody>\n</table>\n<p>307 rows × 11 columns</p>\n</div>"
     },
     "execution_count": 14,
     "metadata": {},
     "output_type": "execute_result"
    }
   ],
   "source": [
    "null_rows = df.loc[df.isna().any(axis=1)]\n",
    "null_rows"
   ],
   "metadata": {
    "collapsed": false,
    "ExecuteTime": {
     "end_time": "2023-10-26T11:22:17.857918600Z",
     "start_time": "2023-10-26T11:22:17.853839100Z"
    }
   }
  },
  {
   "cell_type": "code",
   "execution_count": null,
   "outputs": [],
   "source": [],
   "metadata": {
    "collapsed": false
   }
  }
 ],
 "metadata": {
  "kernelspec": {
   "display_name": "Python 3",
   "language": "python",
   "name": "python3"
  },
  "language_info": {
   "codemirror_mode": {
    "name": "ipython",
    "version": 2
   },
   "file_extension": ".py",
   "mimetype": "text/x-python",
   "name": "python",
   "nbconvert_exporter": "python",
   "pygments_lexer": "ipython2",
   "version": "2.7.6"
  }
 },
 "nbformat": 4,
 "nbformat_minor": 0
}
